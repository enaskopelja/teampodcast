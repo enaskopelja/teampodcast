{
 "cells": [
  {
   "cell_type": "code",
   "execution_count": 13,
   "metadata": {},
   "outputs": [],
   "source": []
  },
  {
   "cell_type": "code",
   "execution_count": 15,
   "metadata": {},
   "outputs": [
    {
     "data": {
      "text/plain": [
       "['https://www.biorxiv.org/content/10.1101/2023.02.08.527623v1',\n",
       " 'https://www.biorxiv.org/content/10.1101/2022.11.04.515218v1']"
      ]
     },
     "execution_count": 15,
     "metadata": {},
     "output_type": "execute_result"
    }
   ],
   "source": [
    "def get_messages_from_channel(channel_id, token):\n",
    "    client = slack_sdk.WebClient(token=token)\n",
    "    response = client.conversations_history(channel=channel_id)\n",
    "    # get all messages\n",
    "    messages = response['messages']\n",
    "    # get all urls\n",
    "    urls = []\n",
    "    for message in messages:\n",
    "        # extract urls from message using regex\n",
    "        urls += re.findall(r'(https?://[A-Za-z\\d\\/\\-\\.]+)', message['text'])\n",
    "    return list(set(urls))\n",
    "\n",
    "get_messages_from_channel('C04P4EWMHKM', token)"
   ]
  },
  {
   "cell_type": "code",
   "execution_count": 17,
   "metadata": {},
   "outputs": [],
   "source": [
    "import requests\n",
    "\n",
    "url = 'https://faas-ams3-2a2df116.doserverless.co/api/v1/web/fn-c5c8b0ac-65ad-4431-a584-56e7b664e9a6/slack/post_podcast'\n",
    "data = {\n",
    "    \"podcast_url\" : \"https://storage.googleapis.com/team-podcast/2023/2/10/23_53_36.mp3\",\n",
    "    \"podcast_intro\" : \"This is a test podcast\"\n",
    "}\n",
    "\n",
    "r = requests.post(url, json=data)"
   ]
  }
 ],
 "metadata": {
  "kernelspec": {
   "display_name": "Python 3",
   "language": "python",
   "name": "python3"
  },
  "language_info": {
   "codemirror_mode": {
    "name": "ipython",
    "version": 3
   },
   "file_extension": ".py",
   "mimetype": "text/x-python",
   "name": "python",
   "nbconvert_exporter": "python",
   "pygments_lexer": "ipython3",
   "version": "3.10.2"
  },
  "orig_nbformat": 4,
  "vscode": {
   "interpreter": {
    "hash": "aee8b7b246df8f9039afb4144a1f6fd8d2ca17a180786b69acc140d282b71a49"
   }
  }
 },
 "nbformat": 4,
 "nbformat_minor": 2
}
