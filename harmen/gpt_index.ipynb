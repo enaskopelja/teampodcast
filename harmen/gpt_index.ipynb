{
 "cells": [
  {
   "cell_type": "code",
   "execution_count": 81,
   "metadata": {},
   "outputs": [],
   "source": [
    "import dotenv\n",
    "import os\n",
    "\n",
    "\n",
    "dotenv.load_dotenv()\n",
    "#os.environ['OPENAI_API_KEY'] = os.getenv('OPENAI_API_KEY')\n",
    "\n",
    "\n",
    "from gpt_index import GPTTreeIndex, SimpleDirectoryReader, LLMPredictor\n",
    "from langchain import OpenAI\n",
    "from gpt_index.indices.prompt_helper import PromptHelper\n",
    "from IPython.display import Markdown, display\n",
    "\n",
    "llm_predictor = LLMPredictor(llm=OpenAI(temperature=0.7, model_name=\"text-davinci-003\"))"
   ]
  },
  {
   "cell_type": "code",
   "execution_count": 82,
   "metadata": {},
   "outputs": [],
   "source": [
    "documents = SimpleDirectoryReader('data').load_data()"
   ]
  },
  {
   "cell_type": "code",
   "execution_count": 83,
   "metadata": {},
   "outputs": [
    {
     "name": "stderr",
     "output_type": "stream",
     "text": [
      "INFO:root:> Building index from nodes: 0 chunks\n",
      "INFO:root:> [build_index_from_documents] Total LLM token usage: 1948 tokens\n",
      "INFO:root:> [build_index_from_documents] Total embedding token usage: 0 tokens\n"
     ]
    }
   ],
   "source": [
    "index = GPTTreeIndex(documents, llm_predictor=llm_predictor)"
   ]
  },
  {
   "cell_type": "code",
   "execution_count": 84,
   "metadata": {},
   "outputs": [],
   "source": [
    "new_index = GPTTreeIndex.load_from_disk('index.json', llm_predictor = llm_predictor)"
   ]
  },
  {
   "cell_type": "code",
   "execution_count": 87,
   "metadata": {},
   "outputs": [
    {
     "name": "stderr",
     "output_type": "stream",
     "text": [
      "INFO:root:> Starting query: make a podcast text for three people talking about the above article. start with a brief introduction, discuss the main takeaways, some strong and weak points. End with future perspectives. Each person should start speaking on a new line.\n",
      "INFO:root:>[Level 0] Selected node: [1]/[1]\n",
      "INFO:root:>[Level 1] Selected node: [1]/[1]\n",
      "INFO:root:> [query] Total LLM token usage: 2833 tokens\n",
      "INFO:root:> [query] Total embedding token usage: 0 tokens\n"
     ]
    }
   ],
   "source": [
    "#response = index.query(\"Please summarize the above article in 800 words.\")\n",
    "\n",
    "response = index.query(\"make a podcast text for three people talking about the above article. start with a brief introduction, discuss the main takeaways, some strong and weak points. End with future perspectives. Each person should start speaking on a new line.\")"
   ]
  },
  {
   "cell_type": "code",
   "execution_count": 88,
   "metadata": {},
   "outputs": [
    {
     "data": {
      "text/plain": [
       "'Person 1:\\nWelcome to our podcast. Today, we will be discussing a new article about spatial transcriptomics. Spatial transcriptomics is a high-throughput sequencing of the transcriptome which preserves the spatial information of the tissue, and has opened up many new biological insights in the past three years. \\n\\nPerson 2:\\nThe article discusses how spatial transcriptomics enables the analysis of cells within the tissue structure and provides new perspectives on cell status. It also explains how commonly used pipelines for single-cell RNA sequencing can be applied to spatial transcriptomics. \\n\\nPerson 3:\\nOne key point of the article is the detection of genes with spatial expression patterns, also known as spatially variable genes. These genes can be used to reconstruct tissue structure and provide biological insights. There are still some challenges with making full use of the location information, but the development of sequencing technology is advancing quickly and providing new opportunities.'"
      ]
     },
     "execution_count": 88,
     "metadata": {},
     "output_type": "execute_result"
    }
   ],
   "source": [
    "response.response"
   ]
  },
  {
   "cell_type": "code",
   "execution_count": 89,
   "metadata": {},
   "outputs": [
    {
     "name": "stderr",
     "output_type": "stream",
     "text": [
      "INFO:root:> Starting query: make a podcast text where one person thanks the authors of the above article.\n",
      "INFO:root:>[Level 0] Selected node: [1]/[1]\n",
      "INFO:root:>[Level 1] Selected node: [3]/[3]\n",
      "INFO:root:> [query] Total LLM token usage: 2663 tokens\n",
      "INFO:root:> [query] Total embedding token usage: 0 tokens\n"
     ]
    }
   ],
   "source": [
    "\n",
    "response = index.query(\"make a podcast text where one person thanks the authors of the above article.\")"
   ]
  },
  {
   "cell_type": "code",
   "execution_count": 90,
   "metadata": {},
   "outputs": [
    {
     "data": {
      "text/plain": [
       "'Thank you to the authors of the article for their research into SV genes and their related spatial expression patterns. Your work in developing the Spanve algorithm, which is able to accurately identify genes with spatial expression patterns, has been incredibly valuable. The implementation of two types of spatial sampling and a spatial imputation method for clustering, along with the comprehensive benchmarking of state-of-the-art models, has been incredibly insightful. Your work has helped to further our knowledge of SV genes and their related spatial expression patterns, and for that we are incredibly grateful.'"
      ]
     },
     "execution_count": 90,
     "metadata": {},
     "output_type": "execute_result"
    }
   ],
   "source": [
    "response.response"
   ]
  },
  {
   "cell_type": "code",
   "execution_count": 45,
   "metadata": {},
   "outputs": [
    {
     "name": "stderr",
     "output_type": "stream",
     "text": [
      "INFO:root:> Starting query: Make a podcast text for two people talking about the above article, include placeholders for laughs. Start with a brief introduction, discuss the main takeaways, some strong and weak points, and end forward looking. Each person should start speaking on a new line.\n",
      "INFO:root:>[Level 0] Selected node: [1]/[1]\n",
      "INFO:root:>[Level 1] Selected node: [3]/[3]\n",
      "INFO:root:> [query] Total LLM token usage: 2960 tokens\n",
      "INFO:root:> [query] Total embedding token usage: 0 tokens\n"
     ]
    }
   ],
   "source": [
    "response = new_index.query(\"Make a podcast text for two people talking about the above article. Start with a brief introduction, discuss the main takeaways, some strong and weak points, and end forward looking. Each person should start speaking on a new line.\")\n"
   ]
  },
  {
   "cell_type": "code",
   "execution_count": 86,
   "metadata": {},
   "outputs": [
    {
     "data": {
      "text/plain": [
       "'ANSWER: None of the above. The summaries provided do not provide any material for a joke about the article.'"
      ]
     },
     "execution_count": 86,
     "metadata": {},
     "output_type": "execute_result"
    }
   ],
   "source": [
    "response.response"
   ]
  },
  {
   "cell_type": "code",
   "execution_count": 24,
   "metadata": {},
   "outputs": [
    {
     "name": "stderr",
     "output_type": "stream",
     "text": [
      "INFO:root:> Starting query: What strong and weak points does the above article have?\n",
      "INFO:root:>[Level 0] Selected node: [1]/[1]\n",
      "INFO:root:>[Level 1] Selected node: [6]/[6]\n",
      "INFO:root:> [query] Total LLM token usage: 2604 tokens\n",
      "INFO:root:> [query] Total embedding token usage: 0 tokens\n"
     ]
    }
   ],
   "source": [
    "response = new_index.query(\"What strong and weak points does the above article have?\")"
   ]
  },
  {
   "cell_type": "code",
   "execution_count": 51,
   "metadata": {},
   "outputs": [],
   "source": [
    "article = {\n",
    "    \"title\": \"Spanve: an Effective Statistical Method to Detect Spatially Variable Genes in Large-scale Spatial Transcriptomics Data\",\n",
    "    \"authors\": [\"Author 1\", \"Author 2\"],\n",
    "    \"abstract\": \"Spatial transcriptomics enables the depiction ofgene expression and could further be applied to infer the mechanism of cell functions. In this study, we present Spanve (Spatial Neighborhood Variably Expressed Genes), a statistic based approach to detect space-dependent expressed genes from spatial transcriptomics data, which has a high computation efficiency and accuracy by modeling the dependence of space and expression as a distance of two distributions. We demonstrate that Spanve is capable of imputating the spatial transcriptome and improving the identification of spatial tissue regions.\",\n",
    "    \"doi\": \"10.1234/56789\",\n",
    "    \"url\": \"https://www.example.com/article\",\n",
    "    \"body\": [\n",
    "        \"Spatially resolved transcriptomics provides high-throughput sequencing of the transcriptome while retaining the spatial information of the tissue, which has facilitated biological insights in many areas in the past three years (;). Spatial transcriptomics enables the analysis of cells under the background of tissue structure, providing a new perspective of cell status. In theory, analysis approaches designed for single-cell RNA sequencing (scRNA-seq) data can be used in spatial transcriptomics, but new methods are still urgently needed to make full use of location information. The first step of processing scRNA-seq data is dealing with high dimensions, considering the efficiency and accuracy of calculation. In general, pipelines filtering genes with variance of expression is used to reduce data dimensionality, i.e. identifying highly variable genes (HVGs). In spatial transcriptomics, detecting genes with spatial expression patterns or spatially variable (SV) genes is the first and important step in describing complex spatial transcriptomic landscapes. SV genes can be caused by cell type localization or space-dependent cell interactions () and are thus informative for multiple downstream analyses, such as reconstructing tissue structure (). SV genes are also helpful for providing biological insight, as different spatial expression patterns reflect different gene functions.\",\n",
    "        \"At present, commonly used spatial transcriptome sequencing technology (for example, Visium) contains tens or more cells in a spot. With the development of sequencing technology (for example, stereo-seq ()), it is possible to locate cellular or subcellular transcriptomes (). However, the progress of new technology raises new challenges in that the volume and complexity of data increases. Unfortunately, these challenges have not been well solved by current SV gene detection methods. Covariance-matrix-based () and clustering-based () methods increase computational cost dramatically with the increased number of cells or spots, which limits the usage of these methods in big data. Furthermore, gene expression modeling techniques frequently rely on Gaussian or Poisson distributions, which can result in a high rate of false positive results because not all gene expressions conform to these assumptions.\",\n",
    "        \"To this end, we developed Spanve (Spatial Neighborhood Variably Expressed Genes), a method for analyzing the dependence of gene expression on spatial location based on a simple but effective statistical test (). Spanve does not directly consider modeling gene expression in a cell to classical distributions but rather the difference between a cell and its spatial neighbors, which is viewed as a kind of sampling. If a gene has a spatial expression pattern, there would be a great difference between space-based sampling and random sampling, which is quantified by Kullback-Leibler divergence (KL divergence). As avoiding the assumption of gene expression distributions, more precise and spatial heterogeneous SV genes can be detected. Furthermore, by considering the relationship of cells or spots, SV genes is able to be awareness of spatial domains, which facilitates the downstream clustering task. Besides, through the implementation of parallel processing and simple but effective algorithm, Spanve has been demonstrated to exhibit exceptional computational performance. Here, we implemented two types of spatial sampling, including k-nearest-neighbor-based (Spanve-k) and Delaunay-network-based (Spanve-d). A spatial imputation method () is also implemented for clustering and a comprehensive benchmarking of the state-of-the-art () is used for evaluation.\",\n",
    "        \"As location effects may exist, including cell type distribution, local environment and cell interactions, simple distributions may not describe the gene expression, while complex distributions largely increase the number of parameters and fitting time. Without the hypothesis of gene expression distribution, Spanve is able to accurately identify genes with spatial expression patterns. As there is no gold standard for SV genes, we used two spatial autocorrelation metrics, Moran’s I and Geary’s C (), to benchmark the statistical sensitivity of SV identification methods. Forty-six datasets with only HVGs sorted by Li et al. () are used. The results show that Spanve achieves the best score in both metrics () and still identified a moderate number of genes. Moreover, by avoiding modeling gene distribution, Spanve reduces the complexity of the calculation and avoids subjective parameter selection. The K nearest neighbor (KNN) network contains more edges than the Delaunay network and is thus more sensitive to spatial variability but requires more computation. In our simulation with 1000 genes and an increased number of cells, Spanve-d has the highest calculation speed and lowest memory costs. Spanve-k is also low-cost when the number of cells is less than 10000, but not in data containing larger cells as edges in the KNN network grow at a polynomial rate. Spanve is able to deal with spatial transcriptome data with one hundred thousand cells in just more than ten seconds ().\",\n",
    "        \"Compared with the existing methods, Spanve considers the complicated interaction between cells in the detection of spatial patterns, which is helpful for the next crucial downstream job of recognizing the tissue hierarchy and structure. For benchmarking the relationship of clusters and SV genes, 44 datasets from the 10X-Genomics database are used, which contain clustering labels performed by Space Ranger. The Calinski⍰Harabasz Index (CH index) is used as an indicator to show how well selected genes are related to cell clustering results by dispersions of data between clusters and within clusters. The higher the CH index, the more likely it is that data with SV genes as features will attain the clustering label based on raw data, implying that SV genes are more representative of raw data. As shown in, we compared the CH index of genes identified by different methods and showed the advantage of Spanve in identifying cluster-aware genes.\",\n",
    "        \"We further implemented a spatial imputation algorithm for clustering on the basis of detected SV genes (). As SV genes reflect the location effects of the expression, it may be possible to capture the relationships between cells by scanning the expression of cell pairs. As previously described, these effects are driven by a variety of complicated factors. Consequently, imputation combining spatial locations and gene expression can better capture cellular characteristics, which may be beneficial for downstream clustering. Based on the established expectation distribution of SV gene expression, we can recognize cell pairs with an unexpected expression variation to construct a network. A strategy of graph convolution with a self-loop is performed to impute the data, which is regarded as an enhancement of location effects. To validate whether imputation is beneficial for clustering, we aggregated spatial imputation data with several typical tissue structure detection methods (;). The results in DLPFC data () () indicate the large improvement of clustering after Spanve imputation, and clearer boundary of tissue layers can be obtained ().\",\n",
    "        \"In conclusion, we developed a spatially variable gene identification method called Spanve, which provides cluster-aware genes scalably. We anticipated that scalability would become more crucial as spatial transcriptomics data expand in size. Spanve requires the least amount of time and computational cost in large-scale spatial transcriptomics data when compared to current methods. Furthermore, the genes identified by Spanve are more spatially heterogeneous and favorable to further clustering. We also created a spatial imputation method that allows for popular clustering approaches identifying more accurate tissue structures. A Limitation is that it is not able to deal with data from similar tissue slices simultaneously for detecting robust SV genes and making use of prior data. As the volume of spatial transcriptomics data continues to increase, overcoming the current limitations of our approach, the Spanve, has the potential to become even more powerful in the future.\"\n",
    "    ]\n",
    "}"
   ]
  },
  {
   "cell_type": "code",
   "execution_count": 55,
   "metadata": {},
   "outputs": [],
   "source": [
    "url = \"http://164.90.183.32:5000/openai/summarize\"\n",
    "\n",
    "import requests\n",
    "\n",
    "articles = [article]\n",
    "prompts = [\"Make a podcast text for two people talking about the above article. Start with a brief introduction, discuss the main takeaways, some strong and weak points, and end forward looking. Each person should start speaking on a new line.\"]\n",
    "\n",
    "response = requests.post(url, json={\"articles\" : articles, \"prompts\" : prompts})\n"
   ]
  },
  {
   "cell_type": "code",
   "execution_count": 56,
   "metadata": {},
   "outputs": [
    {
     "data": {
      "text/plain": [
       "{'body': {'responses': [{'prompt': 'Make a podcast text for two people talking about the above article. Start with a brief introduction, discuss the main takeaways, some strong and weak points, and end forward looking. Each person should start speaking on a new line.',\n",
       "    'response': 'Person 1: Hi everyone, today we are discussing a recent article about a new method called Spanve for identifying cluster-aware genes. \\n\\nPerson 2: Yes, this method is designed to be scalable and is able to identify genes that are more representative of raw data. It also implements a spatial imputation algorithm for clustering on the basis of detected SV genes. \\n\\nPerson 1: The results of the DLPFC data showed that the clustering was improved after Spanve imputation, and clearer boundaries of tissue layers were obtained. \\n\\nPerson 2: This is a great advancement in the field of spatial transcriptomics, as it allows for more accurate clustering of data. However, it is important to note that this method is still in its early stages and more research is needed to further improve its accuracy. \\n\\nPerson 1: Absolutely. Looking forward, it will be interesting to see how this method is further developed and how it can be applied to other areas of research.'}]},\n",
       " 'statusCode': 202}"
      ]
     },
     "execution_count": 56,
     "metadata": {},
     "output_type": "execute_result"
    }
   ],
   "source": [
    "response.json()"
   ]
  }
 ],
 "metadata": {
  "kernelspec": {
   "display_name": "Python 3",
   "language": "python",
   "name": "python3"
  },
  "language_info": {
   "codemirror_mode": {
    "name": "ipython",
    "version": 3
   },
   "file_extension": ".py",
   "mimetype": "text/x-python",
   "name": "python",
   "nbconvert_exporter": "python",
   "pygments_lexer": "ipython3",
   "version": "3.10.2"
  },
  "orig_nbformat": 4,
  "vscode": {
   "interpreter": {
    "hash": "aee8b7b246df8f9039afb4144a1f6fd8d2ca17a180786b69acc140d282b71a49"
   }
  }
 },
 "nbformat": 4,
 "nbformat_minor": 2
}
