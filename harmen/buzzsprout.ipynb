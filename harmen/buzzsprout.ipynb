{
 "cells": [
  {
   "cell_type": "code",
   "execution_count": 20,
   "metadata": {},
   "outputs": [],
   "source": [
    "import dotenv\n",
    "import os\n",
    "import requests\n",
    "\n",
    "dotenv.load_dotenv()\n",
    "TRANSISTOR_FM_TOKEN = os.getenv(\"TRANSISTOR_FM_TOKEN\")"
   ]
  },
  {
   "cell_type": "code",
   "execution_count": 67,
   "metadata": {},
   "outputs": [],
   "source": [
    "import requests\n",
    "\n",
    "def upload_podcast(title, summary, audio_url):\n",
    "    headers = {\n",
    "        'x-api-key': TRANSISTOR_FM_TOKEN,\n",
    "        'content-type': 'application/json',\n",
    "    }\n",
    "\n",
    "    data = {\n",
    "        \"episode\": {\n",
    "            \"show_id\": 38673,\n",
    "            \"title\": title,\n",
    "            \"summary\": summary,\n",
    "            #\"season\": season,\n",
    "            #\"number\": number,\n",
    "            \"audio_url\": audio_url\n",
    "        }\n",
    "    }\n",
    "\n",
    "    response = requests.post('https://api.transistor.fm/v1/episodes', headers=headers, json=data)\n",
    "    episode_id = response.json()['data']['id']\n",
    "    publish_podcast(episode_id)\n",
    "    share_url = response.json()['data']['attributes']['share_url']\n",
    "    return share_url"
   ]
  },
  {
   "attachments": {},
   "cell_type": "markdown",
   "metadata": {},
   "source": [
    "# Upload episode` to Transistor FM"
   ]
  },
  {
   "cell_type": "code",
   "execution_count": 99,
   "metadata": {},
   "outputs": [],
   "source": [
    "transcript_text_rows = [\n",
    "  {\n",
    "    'voice': 'Person 1',\n",
    "    'text': \"It's amazing to see how far DMS methodologies have come over the years. \"\n",
    "  },\n",
    "  {\n",
    "    'voice': 'Person 2',\n",
    "    'text': 'Yes, and this new cDNA display proteolysis approach is especially impressive. It can assess the functional effects of missense mutations on protein stability at a large scale, much faster than previously possible. '\n",
    "  },\n",
    "  {\n",
    "    'voice': 'Person 1',\n",
    "    'text': \"That's true, but it only focuses on protein stability, so it doesn't give us a complete picture of the mechanisms of LOF diseases. \"\n",
    "  },\n",
    "  {\n",
    "    'voice': 'Person 2',\n",
    "    'text': 'Right, and current computational tools are still the main avenue for understanding the functional effects of missense mutations. However, the cDNA display proteolysis approach can still provide valuable insight into the mechanisms of LOF diseases, as well as help us test the accuracy of current computational tools and develop better methodologies. '\n",
    "  },\n",
    "  {\n",
    "    'voice': 'Person 1',\n",
    "    'text': 'It definitely presents an exciting opportunity for research in this area. '\n",
    "  },\n",
    "  {\n",
    "    'voice': 'Person 2',\n",
    "    'text': \"Agreed, and I'm looking forward to seeing what new discoveries come out of this methodology in the future!\"\n",
    "  },\n",
    "  { 'voice': 'Person 1', 'text': 'Moving onto our next topic!' },\n",
    "  {\n",
    "    'voice': 'Person 1',\n",
    "    'text': 'Wow, this article talks about how deep learning can be used to create protein engineering that can potentially create biocatalysts for a cyclic plastic economy. '\n",
    "  },\n",
    "  {\n",
    "    'voice': 'Person 2',\n",
    "    'text': \"That's incredible! It's amazing how technology can be used to make an impact on the environment. The results from this study demonstrate potential for deep learning in protein engineering. It could be a great way to reduce plastic waste in the future. \"\n",
    "  },\n",
    "  {\n",
    "    'voice': 'Person 1',\n",
    "    'text': 'Yes, the potential for this technology is really exciting. One downside is that the technology is still being developed, so it may not produce the desired outcome. '\n",
    "  },\n",
    "  {\n",
    "    'voice': 'Person 2',\n",
    "    'text': 'True, but the potential for this technology is really promising. It could really help reduce the amount of plastic waste and create a more sustainable economy. We need to continue to explore this technology and see how we can make the most of it.'\n",
    "  },\n",
    "  { 'voice': 'Person 1', 'text': 'Moving onto our next topic!' },\n",
    "  {\n",
    "    'voice': 'Person 1',\n",
    "    'text': \"The article discusses the evolution of language models and how size can play a role in the performance of these models. It's really interesting that they are able to demonstrate a performance-proportional increase in size from 85M to 1.2B parameters. \"\n",
    "  },\n",
    "  {\n",
    "    'voice': 'Person 2',\n",
    "    'text': \"That's definitely impressive! And I think it's important to note that model size is not the only factor that contributes to performance. They also mention the importance of computational costs, task-agnostic model design, and implementation. It's clear that up-scaling language models is also conditional. We need to consider the quality of the dataset as well as the size of the model. \"\n",
    "  },\n",
    "  {\n",
    "    'voice': 'Person 1',\n",
    "    'text': \"Right, and I think it's important to remember that bigger isn't always better. We need to take a holistic approach when evaluating the performance of language models. \"\n",
    "  },\n",
    "  {\n",
    "    'voice': 'Person 2',\n",
    "    'text': \"Absolutely. Moving forward, I think it would be beneficial to explore other factors that may influence the performance of language models. We should also focus on improving the implementation of these models to ensure we're getting the most out of them.\"\n",
    "  },\n",
    "  { 'voice': 'Person 1', 'text': 'Moving onto our next topic!' },\n",
    "  {\n",
    "    'voice': 'Person 1',\n",
    "    'text': 'Wow! This article is really interesting. It talks about using models to predict the effects of mutations on protein function, stability, and binding affinity. '\n",
    "  },\n",
    "  {\n",
    "   'voice': 'Person 2',\n",
    "    'text': \"Yes, and what's even more remarkable is that the model can be trained to predict the native sequence of amino acids from the coordinates of the protein's backbone atoms. \"\n",
    "  },\n",
    "  {\n",
    "    'voice': 'Person 1',\n",
    "    'text': \"That's impressive! But I'm wondering how accurate the model is.\"\n",
    "  },\n",
    "  {\n",
    "    'voice': 'Person 2',\n",
    "    'text': 'Well, the article mentions that the model was evaluated across a variety of benchmarks, and so far the results have been promising. It looks like the model could be used for sequence design, as well as for zero-shot prediction of mutation effects. '\n",
    "  },\n",
    "  {\n",
    "    'voice': 'Person 1',\n",
    "    'text': \"That's great! It looks like this model could be a powerful tool for scientists and researchers. \"\n",
    "  },\n",
    "  {\n",
    "    'voice': 'Person 2',\n",
    "    'text': \"Yes, I agree. It's exciting to see how this model could be used in the future to develop new therapies and treatments.\"\n",
    "  },\n",
    "  { 'voice': 'Person 1', 'text': 'Moving onto our next topic!' },\n",
    "  {\n",
    "    'voice': 'Person 1',\n",
    "    'text': 'Wow, this article is impressive! It talks about early-stage scFv development, and how ML model development can be used to generate large and diverse libraries of high-affinity scFvs against a target protein sequence.'\n",
    "  },\n",
    "  {\n",
    "    'voice': 'Person 2',\n",
    "    'text': \"Yes, and it seems that the models are able to accurately predict binding affinity for extremely high order mutants. That's really incredible! There's also the benefit of being able to select preclinical candidates that are uncorrelated in their downstream failure modes. \"\n",
    "  },\n",
    "  {\n",
    "    'voice': 'Person 1',\n",
    "    'text': \"That's a great point! It also looks like the model performance is dependent on the amount of training data available; however, after about 7,000 measurements, performance increases become less significant. \"\n",
    "  },\n",
    "  {\n",
    "    'voice': 'Person 2',\n",
    "    'text': \"Right, so it's important to find the sweet spot between performance gains and data collection. Looking forward, this ML-based multi-objective scFv optimization approach could be a viable option for streamlining scFv development.\"\n",
    "  }\n",
    "]"
   ]
  },
  {
   "cell_type": "code",
   "execution_count": 100,
   "metadata": {},
   "outputs": [],
   "source": [
    "transcript_text = \"\"\n",
    "\n",
    "for i in range(len(transcript_text_rows)):\n",
    "    transcript_text += transcript_text_rows[i]['voice'] + \": \" + transcript_text_rows[i]['text'] + \"\\n\""
   ]
  },
  {
   "cell_type": "code",
   "execution_count": 85,
   "metadata": {},
   "outputs": [],
   "source": [
    "url = 'https://faas-ams3-2a2df116.doserverless.co/api/v1/web/fn-c5c8b0ac-65ad-4431-a584-56e7b664e9a6/transistor/publish_episode'\n",
    "\n",
    "data = {\n",
    "    \"podcast_title\" : \"Week 7\",\n",
    "    \"podcast_summary\" : \"Top papers from week 6\",\n",
    "    \"podcast_transcript_text\" : transcript_text,\n",
    "    \"podcast_audio_url\" : \"https://storage.googleapis.com/team-podcast/8bea2d2f-de9c-46dc-8cb0-2f5fb82c074f.wav\"\n",
    "}\n",
    "\n",
    "response = requests.get(url, json=data)"
   ]
  },
  {
   "cell_type": "code",
   "execution_count": 87,
   "metadata": {},
   "outputs": [],
   "source": [
    "share_url = response.json()['share_url']"
   ]
  },
  {
   "attachments": {},
   "cell_type": "markdown",
   "metadata": {},
   "source": [
    "# Post url to Slack"
   ]
  },
  {
   "cell_type": "code",
   "execution_count": 95,
   "metadata": {},
   "outputs": [],
   "source": [
    "url = 'https://faas-ams3-2a2df116.doserverless.co/api/v1/web/fn-c5c8b0ac-65ad-4431-a584-56e7b664e9a6/slack/post_podcast'\n",
    "data = {\n",
    "    \"message\" : share_url\n",
    "}\n",
    "\n",
    "r = requests.post(url, json=data)"
   ]
  },
  {
   "cell_type": "code",
   "execution_count": 94,
   "metadata": {},
   "outputs": [
    {
     "data": {
      "text/plain": [
       "'success'"
      ]
     },
     "execution_count": 94,
     "metadata": {},
     "output_type": "execute_result"
    }
   ],
   "source": []
  },
  {
   "cell_type": "code",
   "execution_count": 68,
   "metadata": {},
   "outputs": [],
   "source": [
    "response = upload_podcast(\"This is a new testttt\", \"test\",  \"https://storage.googleapis.com/team-podcast/2023/2/10/23_53_36.mp3\")"
   ]
  },
  {
   "cell_type": "code",
   "execution_count": 71,
   "metadata": {},
   "outputs": [],
   "source": [
    "from biorxiv_retriever import BiorxivRetriever\n",
    "br = BiorxivRetriever()"
   ]
  },
  {
   "cell_type": "code",
   "execution_count": 78,
   "metadata": {},
   "outputs": [],
   "source": [
    "from bs4 import BeautifulSoup\n",
    "import requests\n",
    "\n",
    "def get_article_content(\n",
    "                            biorxiv_url,\n",
    "                            exclude=[\n",
    "                                'abstract', 'ack', 'fn-group', 'ref-list'\n",
    "                            ]):\n",
    "    page_html = requests.get(f\"{biorxiv_url}.full\").text\n",
    "    page_soup = BeautifulSoup(page_html, \"lxml\")\n",
    "\n",
    "    article = page_soup.find(\"div\", {'class': 'article'})\n",
    "    article_txt = \"\"\n",
    "    if article is not None:\n",
    "        for section in article.children:\n",
    "            if section.has_attr('class') and any(\n",
    "                    [ex in section.get('class') for ex in exclude]):\n",
    "                continue\n",
    "            article_txt += section.get_text(' ')\n",
    "    return article_txt\n"
   ]
  },
  {
   "cell_type": "code",
   "execution_count": 97,
   "metadata": {},
   "outputs": [
    {
     "name": "stdout",
     "output_type": "stream",
     "text": [
      "{\"error\":\"Unsupported voice.\"}\n"
     ]
    }
   ],
   "source": [
    "import requests\n",
    "import json\n",
    "\n",
    "import dotenv\n",
    "import os\n",
    "\n",
    "dotenv.load_dotenv()\n",
    "PLAY_HT_TOKEN = os.getenv(\"PLAY_HT_TOKEN\")\n",
    "\n",
    "url = \"https://play.ht/api/v1/convert\"\n",
    "\n",
    "payload = json.dumps({\n",
    "\"voice\": \"Jelle\",\n",
    "\"content\": [\n",
    "    \"Hello My friends\",\n",
    "    \"It's a beautiful day, isn't it ?\"\n",
    "],\n",
    "\"speed\": \"1.0\",\n",
    "\"preset\": \"balanced\"\n",
    "})\n",
    "headers = {\n",
    "'Authorization': PLAY_HT_TOKEN,\n",
    "'X-User-ID': 'QmUxu9CtLBgwvayDDdUpo2T577U2',\n",
    "'Content-Type': 'application/json'\n",
    "}\n",
    "\n",
    "response = requests.request(\"POST\", url, headers=headers, data=payload)\n",
    "print(response.text)"
   ]
  },
  {
   "cell_type": "code",
   "execution_count": 33,
   "metadata": {},
   "outputs": [],
   "source": [
    "def publish_podcast(episode_id):\n",
    "    import requests\n",
    "\n",
    "    headers = {\n",
    "        'x-api-key': TRANSISTOR_FM_TOKEN,\n",
    "        'content-type': 'application/x-www-form-urlencoded',\n",
    "    }\n",
    "\n",
    "    data = 'episode[status]=published&fields[episode][]=status'\n",
    "\n",
    "    response = requests.patch(f'https://api.transistor.fm/v1/episodes/{episode_id}/publish', headers=headers, data=data)"
   ]
  }
 ],
 "metadata": {
  "kernelspec": {
   "display_name": "Python 3",
   "language": "python",
   "name": "python3"
  },
  "language_info": {
   "codemirror_mode": {
    "name": "ipython",
    "version": 3
   },
   "file_extension": ".py",
   "mimetype": "text/x-python",
   "name": "python",
   "nbconvert_exporter": "python",
   "pygments_lexer": "ipython3",
   "version": "3.10.2"
  },
  "orig_nbformat": 4,
  "vscode": {
   "interpreter": {
    "hash": "aee8b7b246df8f9039afb4144a1f6fd8d2ca17a180786b69acc140d282b71a49"
   }
  }
 },
 "nbformat": 4,
 "nbformat_minor": 2
}
